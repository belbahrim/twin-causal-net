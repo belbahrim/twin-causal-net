{
 "cells": [
  {
   "cell_type": "code",
   "execution_count": 53,
   "id": "4cb3f036",
   "metadata": {},
   "outputs": [],
   "source": [
    "import numpy as np\n",
    "import pandas as pd\n",
    "import matplotlib.pyplot as plt\n",
    "from numpy.random import normal, multivariate_normal, binomial\n",
    "from sklearn.preprocessing import StandardScaler "
   ]
  },
  {
   "cell_type": "code",
   "execution_count": 102,
   "id": "7bccc4f9",
   "metadata": {},
   "outputs": [],
   "source": [
    "def generate_data(nb_obs=1000, nb_feat=9, tau=0, scenario=1, is_homo=True, random_state=1234):\n",
    "    # from https://arxiv.org/pdf/2204.10969\n",
    "    np.random.seed(random_state)\n",
    "    X = multivariate_normal(mean = np.zeros(nb_feat), cov=np.diag(np.ones(nb_feat)), size=nb_obs)\n",
    "    W1 = (np.exp(X[:,0] / 2)).reshape(-1,1)\n",
    "    W2 = (np.exp(X[:,1] / 3)).reshape(-1,1)\n",
    "    W3 = (X[:,2]**2).reshape(-1,1)\n",
    "    W4 = (X[:,3]**2).reshape(-1,1)\n",
    "    W5 = (X[:,4]).reshape(-1,1)\n",
    "    W6 = (X[:,5]).reshape(-1,1)\n",
    "    W7 = (X[:,6] + X[:,7]).reshape(-1,1)\n",
    "    W8 = (X[:,6]**2 + X[:,7]**2).reshape(-1,1)\n",
    "    W9 = (X[:,8]**3).reshape(-1,1)\n",
    "\n",
    "    columns = ['W1','W2','W3','W4','W5','W6','W7','W8','W9']\n",
    "    W = pd.DataFrame(np.concatenate((W1, W2, W3, W4, W5, W6, W7, W8, W9), axis=1), columns=columns)\n",
    "    # standardize W\n",
    "    scaler = StandardScaler()  \n",
    "    W_std = pd.DataFrame(scaler.fit_transform(W), columns=columns)\n",
    "\n",
    "    # generate logits\n",
    "    if (scenario == 1):\n",
    "        # normal ps\n",
    "        ps_logit = (-3 + -1*W_std.W1 + 2*W_std.W2 - 3*W_std.W3 + 3*W_std.W4 + 2*W_std.W5 + W_std.W6) / 15\n",
    "    elif (scenario == 2):\n",
    "        # moderate ps\n",
    "        ps_logit = (-3 + -1*W_std.W1 + 2*W_std.W2 - 3*W_std.W3 + 3*W_std.W4 + 2*W_std.W5 + W_std.W6) / 10\n",
    "    elif (scenario == 3):\n",
    "        # extreme ps\n",
    "        ps_logit = (-3 + -1*W_std.W1 + 2*W_std.W2 - 3*W_std.W3 + 3*W_std.W4 + 2*W_std.W5 + W_std.W6) / 5\n",
    "    else: \n",
    "        # more extreme\n",
    "        ps_logit = (-8*W_std.W1 + 1.5*W_std.W2 + 0.5*W_std.W3 - 0.5*W_std.W4 + 2.5*W_std.W5 - 0.5*W_std.W6) / 5\n",
    "\n",
    "    # compute propensity scores\n",
    "    ps = 1 / (1 + np.exp(-ps_logit))\n",
    "\n",
    "    # generate treatment\n",
    "    A = binomial(n=1, p=ps, size=nb_obs)\n",
    "\n",
    "    # genrate potential outcomes\n",
    "    Y0 = -2 + 1.5*W_std.W1 - 2*W_std.W2 + 1.5*W_std.W3 + 2.5*W_std.W7 - W_std.W8 + W_std.W9 + normal(nb_obs)\n",
    "    if (is_homo):\n",
    "        Y1 = Y0 + tau\n",
    "    else:\n",
    "        # hetero\n",
    "        Y1 = Y0 + tau + 5*W_std.W1 + 3*W_std.W3 + 2*W_std.W1*W_std.W3\n",
    "\n",
    "    # generate observed outcomes\n",
    "    Y = Y1 * A + Y0 * (1 - A)\n",
    "    \n",
    "    return Y, A, Y0, Y1, ps, ps_logit, X, W"
   ]
  },
  {
   "cell_type": "code",
   "execution_count": 307,
   "id": "c10a2daa",
   "metadata": {},
   "outputs": [],
   "source": [
    "y, treat, _, _, ps, _, X, _ = generate_data(nb_obs=10000, scenario=1)"
   ]
  },
  {
   "cell_type": "code",
   "execution_count": 104,
   "id": "8c74a904",
   "metadata": {},
   "outputs": [],
   "source": [
    "from sklearn.ensemble import RandomForestClassifier"
   ]
  },
  {
   "cell_type": "code",
   "execution_count": 312,
   "id": "8d15e226",
   "metadata": {},
   "outputs": [
    {
     "data": {
      "text/plain": [
       "(10000, 3)"
      ]
     },
     "execution_count": 312,
     "metadata": {},
     "output_type": "execute_result"
    }
   ],
   "source": [
    "X[:,0:3].shape"
   ]
  },
  {
   "cell_type": "code",
   "execution_count": 313,
   "id": "b3172614",
   "metadata": {},
   "outputs": [
    {
     "data": {
      "text/plain": [
       "RandomForestClassifier(max_depth=4, random_state=0)"
      ]
     },
     "execution_count": 313,
     "metadata": {},
     "output_type": "execute_result"
    }
   ],
   "source": [
    "clf = RandomForestClassifier(max_depth=4, random_state=0)\n",
    "clf.fit(X[:,0:3], treat)"
   ]
  },
  {
   "cell_type": "code",
   "execution_count": 315,
   "id": "35f2d6cf",
   "metadata": {},
   "outputs": [],
   "source": [
    "gps = clf.predict_proba(X[:,0:3])[:,1]"
   ]
  },
  {
   "cell_type": "code",
   "execution_count": 316,
   "id": "06a76aaa",
   "metadata": {},
   "outputs": [
    {
     "data": {
      "image/png": "[encoded data removed]",
      "text/plain": [
       "<Figure size 640x480 with 1 Axes>"
      ]
     },
     "metadata": {},
     "output_type": "display_data"
    }
   ],
   "source": [
    "plt.hist(gps[treat>0], bins=25, alpha=0.45, color='red') \n",
    "plt.hist(gps[(1-treat)>0], bins=25, alpha=0.45, color='blue') \n",
    "plt.hist(ps.sample(5000), bins=25, alpha=0.25, color='grey')\n",
    "plt.title(\"Fitted Propensity Score Per Treatment Arm\") \n",
    "  \n",
    "plt.legend(['Treatment',  \n",
    "            'Control',\n",
    "           'True PS']) \n",
    "  \n",
    "plt.show() "
   ]
  },
  {
   "cell_type": "code",
   "execution_count": 291,
   "id": "9159a0b6",
   "metadata": {},
   "outputs": [],
   "source": [
    "max_gps = gps[(1-treat)>0].max()\n",
    "min_gps = gps[treat>0].min()\n",
    "index = (gps > min_gps) & (gps < max_gps)"
   ]
  },
  {
   "cell_type": "code",
   "execution_count": 292,
   "id": "72fd176b",
   "metadata": {},
   "outputs": [
    {
     "data": {
      "image/png": "[encoded data removed]",
      "text/plain": [
       "<Figure size 640x480 with 1 Axes>"
      ]
     },
     "metadata": {},
     "output_type": "display_data"
    }
   ],
   "source": [
    "plt.hist(gps[index], bins=25, alpha=0.45, color='red') \n",
    "plt.hist(ps.sample(5000), bins=25, alpha=0.25, color='grey')\n",
    "plt.title(\"Fitted Propensity Score Per Treatment Arm\") \n",
    "  \n",
    "plt.legend(['Trimmed PS', 'True PS']) \n",
    "  \n",
    "plt.show() "
   ]
  },
  {
   "cell_type": "code",
   "execution_count": 194,
   "id": "0f1a8322",
   "metadata": {},
   "outputs": [],
   "source": [
    "features_without_gps = np.concatenate((X, treat.reshape(-1,1)), axis=1)\n",
    "features_with_gps = np.concatenate((X, treat.reshape(-1,1), gps.reshape(-1,1)), axis=1)\n",
    "\n",
    "# features with true propensity score\n",
    "features_with_ps = np.concatenate((X, treat.reshape(-1,1), ps.values.reshape(-1,1)), axis=1)"
   ]
  },
  {
   "cell_type": "code",
   "execution_count": 195,
   "id": "2b319996",
   "metadata": {},
   "outputs": [],
   "source": [
    "# features = pd.DataFrame(features_without_gps, columns=['X1','X2','X3','X4','X5','X6','X7','X8','X9', 'Treatment'])\n",
    "features = pd.DataFrame(features_with_gps, columns=['X1','X2','X3','X4','X5','X6','X7','X8','X9', 'Treatment', 'GPS'])\n",
    "# features = pd.DataFrame(features_with_ps, columns=['X1','X2','X3','X4','X5','X6','X7','X8','X9', 'Treatment', 'PS'])"
   ]
  },
  {
   "cell_type": "code",
   "execution_count": 146,
   "id": "a60c00ba",
   "metadata": {},
   "outputs": [],
   "source": [
    "# %pip install statsmodels\n",
    "import statsmodels.api as sm"
   ]
  },
  {
   "cell_type": "code",
   "execution_count": 196,
   "id": "564fd4ae",
   "metadata": {},
   "outputs": [
    {
     "data": {
      "text/plain": [
       "const        10011.068477\n",
       "X1               1.119897\n",
       "X2              -1.388327\n",
       "X3               0.164956\n",
       "X4              -0.077876\n",
       "X5               0.446787\n",
       "X6               0.066655\n",
       "X7               1.788932\n",
       "X8               1.742559\n",
       "X9               0.765101\n",
       "Treatment        0.145906\n",
       "GPS            -30.897375\n",
       "dtype: float64"
      ]
     },
     "execution_count": 196,
     "metadata": {},
     "output_type": "execute_result"
    }
   ],
   "source": [
    "features = sm.add_constant(features)\n",
    "model = sm.OLS(y, features)\n",
    "results = model.fit()\n",
    "results.params"
   ]
  },
  {
   "cell_type": "code",
   "execution_count": 274,
   "id": "3e2b13d0",
   "metadata": {},
   "outputs": [
    {
     "data": {
      "text/plain": [
       "0.1459063793038311"
      ]
     },
     "execution_count": 274,
     "metadata": {},
     "output_type": "execute_result"
    }
   ],
   "source": []
  },
  {
   "cell_type": "code",
   "execution_count": 197,
   "id": "78525fe4",
   "metadata": {},
   "outputs": [],
   "source": [
    "# scenario1 : without GPS in the model, we get ATE = -0.3272\n",
    "# with GPS in the model, we get ATE = 0.1459\n",
    "# with true PS in the model, we get ATE = -0.0269"
   ]
  },
  {
   "cell_type": "code",
   "execution_count": 208,
   "id": "2d8b12cb",
   "metadata": {},
   "outputs": [],
   "source": []
  },
  {
   "cell_type": "code",
   "execution_count": null,
   "id": "8654678c",
   "metadata": {},
   "outputs": [],
   "source": []
  },
  {
   "cell_type": "code",
   "execution_count": 234,
   "id": "b9cc09fb",
   "metadata": {},
   "outputs": [
    {
     "data": {
      "text/plain": [
       "<matplotlib.legend.Legend at 0x21374c43d08>"
      ]
     },
     "execution_count": 234,
     "metadata": {},
     "output_type": "execute_result"
    },
    {
     "data": {
      "image/png": "[encoded data removed]",
      "text/plain": [
       "<Figure size 640x480 with 1 Axes>"
      ]
     },
     "metadata": {},
     "output_type": "display_data"
    }
   ],
   "source": [
    "from statsmodels.distributions.empirical_distribution import ECDF\n",
    "\n",
    "gps_treated = gps[treat>0]\n",
    "gps_control = gps[(1-treat)>0]\n",
    "\n",
    "# fit a cdf\n",
    "ecdf_treated = ECDF(gps_treated)\n",
    "ecdf_control = ECDF(gps_control)\n",
    "\n",
    "\n",
    "plt.plot(ecdf_treated.x, ecdf_treated.y)\n",
    "plt.plot(ecdf_control.x, ecdf_control.y)\n",
    "plt.legend(['Treatment', 'Control'])"
   ]
  },
  {
   "cell_type": "code",
   "execution_count": 273,
   "id": "bb7bfc67",
   "metadata": {},
   "outputs": [],
   "source": [
    "# pdf_treated = np.gradient(ecdf_treated.y, ecdf_treated.x)\n",
    "# plt.plot(ecdf_treated.x, pdf_treated)\n",
    "# pdf_treated\n",
    "\n",
    "# pdf_control = np.gradient(ecdf_control.y, ecdf_control.x)\n",
    "# plt.plot(ecdf_control.x, pdf_control)\n",
    "# pdf_control"
   ]
  },
  {
   "cell_type": "code",
   "execution_count": 303,
   "id": "363f9a92",
   "metadata": {},
   "outputs": [
    {
     "name": "stdout",
     "output_type": "stream",
     "text": [
      "0\n",
      "1\n",
      "2\n",
      "3\n",
      "4\n",
      "5\n",
      "6\n",
      "7\n",
      "8\n",
      "9\n"
     ]
    }
   ],
   "source": [
    "ate_gps = []\n",
    "ate_ps = []\n",
    "ate_without_gps = []\n",
    "\n",
    "for k in np.arange(10):\n",
    "    print(k)\n",
    "    y, treat, _, _, ps, _, X, _ = generate_data(nb_obs=10000, scenario=3, random_state=k)\n",
    "    clf = RandomForestClassifier(max_depth=4, random_state=0)\n",
    "    clf.fit(X, treat)\n",
    "    gps = clf.predict_proba(X)[:,1]\n",
    "    features_with_gps = np.concatenate((X, treat.reshape(-1,1), gps.reshape(-1,1)), axis=1)\n",
    "    features = pd.DataFrame(features_with_gps, columns=['X1','X2','X3','X4','X5','X6','X7','X8','X9', 'Treatment', 'GPS'])\n",
    "    features = sm.add_constant(features)\n",
    "    model = sm.OLS(y, features)\n",
    "    results = model.fit()\n",
    "    ate_gps.append(results.params.Treatment)\n",
    "\n",
    "    features_with_ps = np.concatenate((X, treat.reshape(-1,1), ps.values.reshape(-1,1)), axis=1)\n",
    "    features = pd.DataFrame(features_with_ps, columns=['X1','X2','X3','X4','X5','X6','X7','X8','X9', 'Treatment', 'PS'])\n",
    "    features = sm.add_constant(features)\n",
    "    model = sm.OLS(y, features)\n",
    "    results = model.fit()\n",
    "    ate_ps.append(results.params.Treatment)\n",
    "    \n",
    "    features_without_gps = np.concatenate((X, treat.reshape(-1,1)), axis=1)\n",
    "    features = pd.DataFrame(features_without_gps, columns=['X1','X2','X3','X4','X5','X6','X7','X8','X9', 'Treatment'])\n",
    "    features = sm.add_constant(features)\n",
    "    model = sm.OLS(y, features)\n",
    "    results = model.fit()\n",
    "    ate_without_gps.append(results.params.Treatment)"
   ]
  },
  {
   "cell_type": "code",
   "execution_count": 304,
   "id": "82e760cb",
   "metadata": {},
   "outputs": [
    {
     "data": {
      "text/plain": [
       "-0.2716809178581926"
      ]
     },
     "execution_count": 304,
     "metadata": {},
     "output_type": "execute_result"
    }
   ],
   "source": [
    "np.mean(ate_gps)\n",
    "#0.10786807564638785"
   ]
  },
  {
   "cell_type": "code",
   "execution_count": 305,
   "id": "be743843",
   "metadata": {},
   "outputs": [
    {
     "data": {
      "text/plain": [
       "0.009580382888636052"
      ]
     },
     "execution_count": 305,
     "metadata": {},
     "output_type": "execute_result"
    }
   ],
   "source": [
    "np.mean(ate_ps)\n",
    "#0.008014561205689219"
   ]
  },
  {
   "cell_type": "code",
   "execution_count": 306,
   "id": "fb0bbb3c",
   "metadata": {},
   "outputs": [
    {
     "data": {
      "text/plain": [
       "-0.6780915343731241"
      ]
     },
     "execution_count": 306,
     "metadata": {},
     "output_type": "execute_result"
    }
   ],
   "source": [
    "np.mean(ate_without_gps)\n",
    "#-0.3022102017219261"
   ]
  },
  {
   "cell_type": "code",
   "execution_count": 301,
   "id": "c3621387",
   "metadata": {},
   "outputs": [
    {
     "name": "stdout",
     "output_type": "stream",
     "text": [
      "0\n",
      "9947\n",
      "1\n",
      "9935\n",
      "2\n",
      "9906\n",
      "3\n",
      "9734\n",
      "4\n",
      "9903\n",
      "5\n",
      "9906\n",
      "6\n",
      "9898\n",
      "7\n",
      "9948\n",
      "8\n",
      "9966\n",
      "9\n",
      "9969\n"
     ]
    }
   ],
   "source": [
    "ate_trimming_gps = []\n",
    "\n",
    "for k in np.arange(10):\n",
    "    print(k)\n",
    "    y, treat, _, _, ps, _, X, _ = generate_data(nb_obs=10000, scenario=3, random_state=k)\n",
    "    clf = RandomForestClassifier(max_depth=4, random_state=0)\n",
    "    clf.fit(X, treat)\n",
    "    gps = clf.predict_proba(X)[:,1]\n",
    "    features_with_gps = np.concatenate((X, treat.reshape(-1,1), gps.reshape(-1,1)), axis=1)\n",
    "    features = pd.DataFrame(features_with_gps, columns=['X1','X2','X3','X4','X5','X6','X7','X8','X9', 'Treatment', 'GPS'])\n",
    "    \n",
    "    features = sm.add_constant(features)\n",
    "    \n",
    "    max_gps = gps[(1-treat)>0].max()\n",
    "    min_gps = gps[treat>0].min()\n",
    "    \n",
    "    index = (gps > min_gps) & (gps < max_gps)\n",
    "    print(index.sum())\n",
    "    model = sm.OLS(y.loc[index], features.loc[index])\n",
    "    results = model.fit()\n",
    "    ate_trimming_gps.append(results.params.Treatment)"
   ]
  },
  {
   "cell_type": "code",
   "execution_count": 302,
   "id": "d8dc5113",
   "metadata": {},
   "outputs": [
    {
     "data": {
      "text/plain": [
       "-0.2721953567952431"
      ]
     },
     "execution_count": 302,
     "metadata": {},
     "output_type": "execute_result"
    }
   ],
   "source": [
    "np.mean(ate_trimming_gps)\n",
    "#0.10815406875029403"
   ]
  }
 ],
 "metadata": {
  "kernelspec": {
   "display_name": "Python 3 (ipykernel)",
   "language": "python",
   "name": "python3"
  },
  "language_info": {
   "codemirror_mode": {
    "name": "ipython",
    "version": 3
   },
   "file_extension": ".py",
   "mimetype": "text/x-python",
   "name": "python",
   "nbconvert_exporter": "python",
   "pygments_lexer": "ipython3",
   "version": "3.7.9"
  }
 },
 "nbformat": 4,
 "nbformat_minor": 5
}
