{
 "cells": [
  {
   "cell_type": "code",
   "execution_count": null,
   "id": "a49bc601",
   "metadata": {},
   "outputs": [],
   "source": [
    "import numpy as np\n",
    "import pandas as pd\n",
    "import matplotlib.pyplot as plt\n",
    "from numpy.random import normal, multivariate_normal, binomial\n",
    "from sklearn.preprocessing import StandardScaler "
   ]
  },
  {
   "cell_type": "code",
   "execution_count": null,
   "id": "28b7d768",
   "metadata": {},
   "outputs": [],
   "source": [
    "def generate_data(nb_obs=1000, nb_feat=9, tau=0, scenario=1, is_homo=True, random_state=1234):\n",
    "    # from https://arxiv.org/pdf/2204.10969\n",
    "    np.random.seed(random_state)\n",
    "    X = multivariate_normal(mean = np.zeros(nb_feat), cov=np.diag(np.ones(nb_feat)), size=nb_obs)\n",
    "    W1 = (np.exp(X[:,0] / 2)).reshape(-1,1)\n",
    "    W2 = (np.exp(X[:,1] / 3)).reshape(-1,1)\n",
    "    W3 = (X[:,2]**2).reshape(-1,1)\n",
    "    W4 = (X[:,3]**2).reshape(-1,1)\n",
    "    W5 = (X[:,4]).reshape(-1,1)\n",
    "    W6 = (X[:,5]).reshape(-1,1)\n",
    "    W7 = (X[:,6] + X[:,7]).reshape(-1,1)\n",
    "    W8 = (X[:,6]**2 + X[:,7]**2).reshape(-1,1)\n",
    "    W9 = (X[:,8]**3).reshape(-1,1)\n",
    "\n",
    "    columns = ['W1','W2','W3','W4','W5','W6','W7','W8','W9']\n",
    "    W = pd.DataFrame(np.concatenate((W1, W2, W3, W4, W5, W6, W7, W8, W9), axis=1), columns=columns)\n",
    "    # standardize W\n",
    "    scaler = StandardScaler()  \n",
    "    W_std = pd.DataFrame(scaler.fit_transform(W), columns=columns)\n",
    "\n",
    "    # generate logits\n",
    "    if (scenario == 1):\n",
    "        # normal ps\n",
    "        ps_logit = (-3 + -1*W_std.W1 + 2*W_std.W2 - 3*W_std.W3 + 3*W_std.W4 + 2*W_std.W5 + W_std.W6) / 15\n",
    "    elif (scenario == 2):\n",
    "        # moderate ps\n",
    "        ps_logit = (-3 + -1*W_std.W1 + 2*W_std.W2 - 3*W_std.W3 + 3*W_std.W4 + 2*W_std.W5 + W_std.W6) / 10\n",
    "    elif (scenario == 3):\n",
    "        # extreme ps\n",
    "        ps_logit = (-3 + -1*W_std.W1 + 2*W_std.W2 - 3*W_std.W3 + 3*W_std.W4 + 2*W_std.W5 + W_std.W6) / 5\n",
    "    else: \n",
    "        # more extreme\n",
    "        ps_logit = (-8*W_std.W1 + 1.5*W_std.W2 + 0.5*W_std.W3 - 0.5*W_std.W4 + 2.5*W_std.W5 - 0.5*W_std.W6) / 5\n",
    "\n",
    "    # compute propensity scores\n",
    "    ps = 1 / (1 + np.exp(-ps_logit))\n",
    "\n",
    "    # generate treatment\n",
    "    A = binomial(n=1, p=ps, size=nb_obs)\n",
    "\n",
    "    # genrate potential outcomes\n",
    "    Y0 = -2 + 1.5*W_std.W1 - 2*W_std.W2 + 1.5*W_std.W3 + 2.5*W_std.W7 - W_std.W8 + W_std.W9 + normal(nb_obs)\n",
    "    if (is_homo):\n",
    "        Y1 = Y0 + tau\n",
    "    else:\n",
    "        # hetero\n",
    "        Y1 = Y0 + tau + 5*W_std.W1 + 3*W_std.W3 + 2*W_std.W1*W_std.W3\n",
    "\n",
    "    # generate observed outcomes\n",
    "    Y = Y1 * A + Y0 * (1 - A)\n",
    "    \n",
    "    return Y, A, Y0, Y1, ps, ps_logit, X, W"
   ]
  },
  {
   "cell_type": "code",
   "execution_count": null,
   "id": "d35868e7",
   "metadata": {},
   "outputs": [],
   "source": [
    "y, treat, _, _, ps, _, X, _ = generate_data(nb_obs=10000, scenario=1)"
   ]
  },
  {
   "cell_type": "code",
   "execution_count": null,
   "id": "2e5aa28c",
   "metadata": {},
   "outputs": [],
   "source": [
    "from sklearn.ensemble import RandomForestClassifier"
   ]
  },
  {
   "cell_type": "code",
   "execution_count": null,
   "id": "dd61be8e",
   "metadata": {},
   "outputs": [],
   "source": [
    "clf = RandomForestClassifier(max_depth=4, random_state=0)\n",
    "clf.fit(X, treat)"
   ]
  },
  {
   "cell_type": "code",
   "execution_count": null,
   "id": "51b115ad",
   "metadata": {},
   "outputs": [],
   "source": [
    "gps = clf.predict_proba(X)[:,1]"
   ]
  },
  {
   "cell_type": "code",
   "execution_count": null,
   "id": "f0523fc5",
   "metadata": {},
   "outputs": [],
   "source": [
    "plt.hist(gps[treat>0], bins=25, alpha=0.45, color='red') \n",
    "plt.hist(gps[(1-treat)>0], bins=25, alpha=0.45, color='blue') \n",
    "plt.hist(ps.sample(5000), bins=25, alpha=0.25, color='grey')\n",
    "plt.title(\"Fitted Propensity Score Per Treatment Arm\") \n",
    "  \n",
    "plt.legend(['Treatment',  \n",
    "            'Control',\n",
    "           'True PS']) \n",
    "  \n",
    "plt.show() "
   ]
  },
  {
   "cell_type": "code",
   "execution_count": null,
   "id": "5447ebc9",
   "metadata": {},
   "outputs": [],
   "source": [
    "max_gps = gps[(1-treat)>0].max()\n",
    "min_gps = gps[treat>0].min()\n",
    "index = (gps > min_gps) & (gps < max_gps)"
   ]
  },
  {
   "cell_type": "code",
   "execution_count": null,
   "id": "01f51660",
   "metadata": {},
   "outputs": [],
   "source": [
    "plt.hist(gps[index], bins=25, alpha=0.45, color='red') \n",
    "plt.hist(ps.sample(5000), bins=25, alpha=0.25, color='grey')\n",
    "plt.title(\"Fitted Propensity Score Per Treatment Arm\") \n",
    "  \n",
    "plt.legend(['Trimmed PS', 'True PS']) \n",
    "  \n",
    "plt.show() "
   ]
  },
  {
   "cell_type": "code",
   "execution_count": null,
   "id": "7fba6367",
   "metadata": {},
   "outputs": [],
   "source": [
    "features_without_gps = np.concatenate((X, treat.reshape(-1,1)), axis=1)\n",
    "features_with_gps = np.concatenate((X, treat.reshape(-1,1), gps.reshape(-1,1)), axis=1)\n",
    "\n",
    "# features with true propensity score\n",
    "features_with_ps = np.concatenate((X, treat.reshape(-1,1), ps.values.reshape(-1,1)), axis=1)"
   ]
  },
  {
   "cell_type": "code",
   "execution_count": null,
   "id": "229e0f0a",
   "metadata": {},
   "outputs": [],
   "source": [
    "# features = pd.DataFrame(features_without_gps, columns=['X1','X2','X3','X4','X5','X6','X7','X8','X9', 'Treatment'])\n",
    "features = pd.DataFrame(features_with_gps, columns=['X1','X2','X3','X4','X5','X6','X7','X8','X9', 'Treatment', 'GPS'])\n",
    "# features = pd.DataFrame(features_with_ps, columns=['X1','X2','X3','X4','X5','X6','X7','X8','X9', 'Treatment', 'PS'])"
   ]
  },
  {
   "cell_type": "code",
   "execution_count": null,
   "id": "8f479cf7",
   "metadata": {},
   "outputs": [],
   "source": [
    "# %pip install statsmodels\n",
    "import statsmodels.api as sm"
   ]
  },
  {
   "cell_type": "code",
   "execution_count": null,
   "id": "3a438a2f",
   "metadata": {},
   "outputs": [],
   "source": [
    "features = sm.add_constant(features)\n",
    "model = sm.OLS(y, features)\n",
    "results = model.fit()\n",
    "results.params"
   ]
  },
  {
   "cell_type": "code",
   "execution_count": null,
   "id": "4fdbfff2",
   "metadata": {},
   "outputs": [],
   "source": []
  },
  {
   "cell_type": "code",
   "execution_count": null,
   "id": "fc4d1dce",
   "metadata": {},
   "outputs": [],
   "source": [
    "# scenario1 : without GPS in the model, we get ATE = -0.3272\n",
    "# with GPS in the model, we get ATE = 0.1459\n",
    "# with true PS in the model, we get ATE = -0.0269"
   ]
  },
  {
   "cell_type": "code",
   "execution_count": null,
   "id": "4dba4154",
   "metadata": {},
   "outputs": [],
   "source": []
  },
  {
   "cell_type": "code",
   "execution_count": null,
   "id": "f7197131",
   "metadata": {},
   "outputs": [],
   "source": []
  },
  {
   "cell_type": "code",
   "execution_count": null,
   "id": "e57dda62",
   "metadata": {},
   "outputs": [],
   "source": [
    "from statsmodels.distributions.empirical_distribution import ECDF\n",
    "\n",
    "gps_treated = gps[treat>0]\n",
    "gps_control = gps[(1-treat)>0]\n",
    "\n",
    "# fit a cdf\n",
    "ecdf_treated = ECDF(gps_treated)\n",
    "ecdf_control = ECDF(gps_control)\n",
    "\n",
    "\n",
    "plt.plot(ecdf_treated.x, ecdf_treated.y)\n",
    "plt.plot(ecdf_control.x, ecdf_control.y)\n",
    "plt.legend(['Treatment', 'Control'])"
   ]
  },
  {
   "cell_type": "code",
   "execution_count": null,
   "id": "8266d090",
   "metadata": {},
   "outputs": [],
   "source": [
    "# pdf_treated = np.gradient(ecdf_treated.y, ecdf_treated.x)\n",
    "# plt.plot(ecdf_treated.x, pdf_treated)\n",
    "# pdf_treated\n",
    "\n",
    "# pdf_control = np.gradient(ecdf_control.y, ecdf_control.x)\n",
    "# plt.plot(ecdf_control.x, pdf_control)\n",
    "# pdf_control"
   ]
  },
  {
   "cell_type": "code",
   "execution_count": null,
   "id": "242737db",
   "metadata": {},
   "outputs": [],
   "source": [
    "ate_gps = []\n",
    "ate_ps = []\n",
    "ate_without_gps = []\n",
    "\n",
    "for k in np.arange(10):\n",
    "    print(k)\n",
    "    y, treat, _, _, ps, _, X, _ = generate_data(nb_obs=10000, scenario=3, random_state=k)\n",
    "    clf = RandomForestClassifier(max_depth=4, random_state=0)\n",
    "    clf.fit(X, treat)\n",
    "    gps = clf.predict_proba(X)[:,1]\n",
    "    features_with_gps = np.concatenate((X, treat.reshape(-1,1), gps.reshape(-1,1)), axis=1)\n",
    "    features = pd.DataFrame(features_with_gps, columns=['X1','X2','X3','X4','X5','X6','X7','X8','X9', 'Treatment', 'GPS'])\n",
    "    features = sm.add_constant(features)\n",
    "    model = sm.OLS(y, features)\n",
    "    results = model.fit()\n",
    "    ate_gps.append(results.params.Treatment)\n",
    "\n",
    "    features_with_ps = np.concatenate((X, treat.reshape(-1,1), ps.values.reshape(-1,1)), axis=1)\n",
    "    features = pd.DataFrame(features_with_ps, columns=['X1','X2','X3','X4','X5','X6','X7','X8','X9', 'Treatment', 'PS'])\n",
    "    features = sm.add_constant(features)\n",
    "    model = sm.OLS(y, features)\n",
    "    results = model.fit()\n",
    "    ate_ps.append(results.params.Treatment)\n",
    "    \n",
    "    features_without_gps = np.concatenate((X, treat.reshape(-1,1)), axis=1)\n",
    "    features = pd.DataFrame(features_without_gps, columns=['X1','X2','X3','X4','X5','X6','X7','X8','X9', 'Treatment'])\n",
    "    features = sm.add_constant(features)\n",
    "    model = sm.OLS(y, features)\n",
    "    results = model.fit()\n",
    "    ate_without_gps.append(results.params.Treatment)"
   ]
  },
  {
   "cell_type": "code",
   "execution_count": null,
   "id": "a57b80e8",
   "metadata": {},
   "outputs": [],
   "source": [
    "np.mean(ate_gps)\n",
    "#0.10786807564638785"
   ]
  },
  {
   "cell_type": "code",
   "execution_count": null,
   "id": "ae9d4088",
   "metadata": {},
   "outputs": [],
   "source": [
    "np.mean(ate_ps)\n",
    "#0.008014561205689219"
   ]
  },
  {
   "cell_type": "code",
   "execution_count": null,
   "id": "b13fa227",
   "metadata": {},
   "outputs": [],
   "source": [
    "np.mean(ate_without_gps)\n",
    "#-0.3022102017219261"
   ]
  },
  {
   "cell_type": "code",
   "execution_count": null,
   "id": "549b2032",
   "metadata": {},
   "outputs": [],
   "source": [
    "ate_trimming_gps = []\n",
    "\n",
    "for k in np.arange(10):\n",
    "    print(k)\n",
    "    y, treat, _, _, ps, _, X, _ = generate_data(nb_obs=10000, scenario=3, random_state=k)\n",
    "    clf = RandomForestClassifier(max_depth=4, random_state=0)\n",
    "    clf.fit(X, treat)\n",
    "    gps = clf.predict_proba(X)[:,1]\n",
    "    features_with_gps = np.concatenate((X, treat.reshape(-1,1), gps.reshape(-1,1)), axis=1)\n",
    "    features = pd.DataFrame(features_with_gps, columns=['X1','X2','X3','X4','X5','X6','X7','X8','X9', 'Treatment', 'GPS'])\n",
    "    \n",
    "    features = sm.add_constant(features)\n",
    "    \n",
    "    max_gps = gps[(1-treat)>0].max()\n",
    "    min_gps = gps[treat>0].min()\n",
    "    \n",
    "    index = (gps > min_gps) & (gps < max_gps)\n",
    "    print(index.sum())\n",
    "    model = sm.OLS(y.loc[index], features.loc[index])\n",
    "    results = model.fit()\n",
    "    ate_trimming_gps.append(results.params.Treatment)"
   ]
  },
  {
   "cell_type": "code",
   "execution_count": null,
   "id": "e3506ec2",
   "metadata": {},
   "outputs": [],
   "source": [
    "np.mean(ate_trimming_gps)\n",
    "#0.10815406875029403"
   ]
  }
 ],
 "metadata": {
  "kernelspec": {
   "display_name": "Python 3 (ipykernel)",
   "language": "python",
   "name": "python3"
  },
  "language_info": {
   "codemirror_mode": {
    "name": "ipython",
    "version": 3
   },
   "file_extension": ".py",
   "mimetype": "text/x-python",
   "name": "python",
   "nbconvert_exporter": "python",
   "pygments_lexer": "ipython3",
   "version": "3.7.9"
  }
 },
 "nbformat": 4,
 "nbformat_minor": 5
}
